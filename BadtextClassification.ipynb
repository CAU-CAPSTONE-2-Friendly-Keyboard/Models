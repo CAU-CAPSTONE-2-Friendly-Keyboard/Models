{
  "nbformat": 4,
  "nbformat_minor": 0,
  "metadata": {
    "colab": {
      "provenance": [],
      "gpuType": "T4",
      "authorship_tag": "ABX9TyPactbGBWn5VMFUxQZyntah",
      "include_colab_link": true
    },
    "kernelspec": {
      "name": "python3",
      "display_name": "Python 3"
    },
    "language_info": {
      "name": "python"
    },
    "accelerator": "GPU",
    "gpuClass": "standard"
  },
  "cells": [
    {
      "cell_type": "markdown",
      "metadata": {
        "id": "view-in-github",
        "colab_type": "text"
      },
      "source": [
        "<a href=\"https://colab.research.google.com/github/CAU-CAPSTONE-2-Friendly-Keyboard/Models/blob/main/%08BadtextClassification.ipynb\" target=\"_parent\"><img src=\"https://colab.research.google.com/assets/colab-badge.svg\" alt=\"Open In Colab\"/></a>"
      ]
    },
    {
      "cell_type": "code",
      "source": [
        "!pip install transformers\n",
        "!pip install lime\n",
        "!pip install xformers"
      ],
      "metadata": {
        "id": "b_8BwUaicwiS"
      },
      "execution_count": null,
      "outputs": []
    },
    {
      "cell_type": "code",
      "source": [
        "from lime import lime_text\n",
        "from lime.lime_text import LimeTextExplainer"
      ],
      "metadata": {
        "id": "Z6ADPuTedWeu"
      },
      "execution_count": null,
      "outputs": []
    },
    {
      "cell_type": "code",
      "execution_count": null,
      "metadata": {
        "id": "QoLa4gtYcotz"
      },
      "outputs": [],
      "source": [
        "from transformers import AutoModelForSequenceClassification, AutoTokenizer, pipeline\n",
        "import torch\n",
        "import numpy as np"
      ]
    },
    {
      "cell_type": "markdown",
      "source": [
        "## Setting"
      ],
      "metadata": {
        "id": "Jo3zEihQ-B3f"
      }
    },
    {
      "cell_type": "code",
      "source": [
        "model = AutoModelForSequenceClassification.from_pretrained('JminJ/kcElectra_base_Bad_Sentence_Classifier')\n",
        "tokenizer = AutoTokenizer.from_pretrained('JminJ/kcElectra_base_Bad_Sentence_Classifier')\n"
      ],
      "metadata": {
        "id": "yWyROJOPfcUS"
      },
      "execution_count": null,
      "outputs": []
    },
    {
      "cell_type": "code",
      "source": [
        "batch_size = 256"
      ],
      "metadata": {
        "id": "d4pfquKW9iKA"
      },
      "execution_count": null,
      "outputs": []
    },
    {
      "cell_type": "code",
      "source": [
        "classifier = pipeline(\"text-classification\", model=model,tokenizer=tokenizer,batch_size=batch_size)"
      ],
      "metadata": {
        "id": "AwX9QYXZd_Do"
      },
      "execution_count": null,
      "outputs": []
    },
    {
      "cell_type": "code",
      "source": [
        "def mk_predlist(inps):\n",
        "  outputs = classifier(inps)\n",
        "  result = []\n",
        "  for output in outputs:\n",
        "    if output['label'] == 'bad_sen':\n",
        "      result.append([output['score'], 1-output['score']])\n",
        "    else:\n",
        "      result.append([1-output['score'], output['score']])\n",
        "  return np.array(result)"
      ],
      "metadata": {
        "id": "NTQ2bEIElbhd"
      },
      "execution_count": null,
      "outputs": []
    },
    {
      "cell_type": "code",
      "source": [
        "explainer = LimeTextExplainer(class_names=['bad','ok'])"
      ],
      "metadata": {
        "id": "eEG4bENOddCk"
      },
      "execution_count": null,
      "outputs": []
    },
    {
      "cell_type": "code",
      "source": [
        "test_text = \"\""
      ],
      "metadata": {
        "id": "yv3mtqCne9bS"
      },
      "execution_count": null,
      "outputs": []
    },
    {
      "cell_type": "code",
      "source": [
        "classifier(test_text)[0]"
      ],
      "metadata": {
        "id": "DXwvm9v4kIRf"
      },
      "execution_count": null,
      "outputs": []
    },
    {
      "cell_type": "code",
      "source": [
        "if classifier(test_text)[0]['label'] == 'bad_sen':\n",
        "  print('비속어 있음')\n",
        "  exp = explainer.explain_instance(test_text, mk_predlist,top_labels=1)\n",
        "  print(exp.as_list(label=0))\n",
        "else:\n",
        "  print('비속어 없음')\n"
      ],
      "metadata": {
        "id": "G1Ru6uy5COj0"
      },
      "execution_count": null,
      "outputs": []
    },
    {
      "cell_type": "code",
      "source": [
        "exp.as_list(label=0)[0][0]"
      ],
      "metadata": {
        "id": "K61ii03VIQth"
      },
      "execution_count": null,
      "outputs": []
    },
    {
      "cell_type": "code",
      "source": [
        "# badwords = []\n",
        "# for word, score in exp.as_list():\n",
        "  # if abs(score)>=0.2:\n",
        "  #   badwords.append(word)\n",
        "# print(badwords)"
      ],
      "metadata": {
        "id": "zb5jvYpc_nm-"
      },
      "execution_count": null,
      "outputs": []
    },
    {
      "cell_type": "code",
      "source": [
        "exp.available_labels()"
      ],
      "metadata": {
        "id": "P0WmxezXFohN"
      },
      "execution_count": null,
      "outputs": []
    },
    {
      "cell_type": "code",
      "source": [],
      "metadata": {
        "id": "68M4VmEMHe5U"
      },
      "execution_count": null,
      "outputs": []
    }
  ]
}