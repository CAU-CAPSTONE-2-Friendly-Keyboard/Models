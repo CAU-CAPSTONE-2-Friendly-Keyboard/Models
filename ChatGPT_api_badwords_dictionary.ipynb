{
  "nbformat": 4,
  "nbformat_minor": 0,
  "metadata": {
    "colab": {
      "provenance": [],
      "authorship_tag": "ABX9TyPS7NKyNVbv70YUgadwpt1O",
      "include_colab_link": true
    },
    "kernelspec": {
      "name": "python3",
      "display_name": "Python 3"
    },
    "language_info": {
      "name": "python"
    }
  },
  "cells": [
    {
      "cell_type": "markdown",
      "metadata": {
        "id": "view-in-github",
        "colab_type": "text"
      },
      "source": [
        "<a href=\"https://colab.research.google.com/github/CAU-CAPSTONE-2-Friendly-Keyboard/Models/blob/main/%08ChatGPT_api_badwords_dictionary.ipynb\" target=\"_parent\"><img src=\"https://colab.research.google.com/assets/colab-badge.svg\" alt=\"Open In Colab\"/></a>"
      ]
    },
    {
      "cell_type": "markdown",
      "source": [
        "## ChatGPT API로 비속어 대체어 추천 받기"
      ],
      "metadata": {
        "id": "nd1wI5aRoK8a"
      }
    },
    {
      "cell_type": "code",
      "source": [
        "!pip install openai"
      ],
      "metadata": {
        "id": "b81c6X717bLt"
      },
      "execution_count": null,
      "outputs": []
    },
    {
      "cell_type": "code",
      "source": [
        "import json\n",
        "import openai"
      ],
      "metadata": {
        "id": "zNvuwg0W52-4"
      },
      "execution_count": null,
      "outputs": []
    },
    {
      "cell_type": "markdown",
      "source": [
        "1. 챗gpt api KEY 필요!\n",
        "2. Badwords 데이터(https://github.com/organization/Gentleman/blob/master/resources/badwords.json)"
      ],
      "metadata": {
        "id": "fklwc-Xbn_NV"
      }
    },
    {
      "cell_type": "code",
      "execution_count": null,
      "metadata": {
        "id": "lrdI_erF4pTh"
      },
      "outputs": [],
      "source": [
        "PATH = '/content/badwords.json'\n",
        "openai.api_key = ''"
      ]
    },
    {
      "cell_type": "code",
      "source": [
        "with open(PATH,'r', encoding='utf-8')as f:\n",
        "  data = json.load(f)\n",
        "clean_data = json.dumps(data, ensure_ascii=False)"
      ],
      "metadata": {
        "id": "Qw_4I6Jy5uaa"
      },
      "execution_count": null,
      "outputs": []
    },
    {
      "cell_type": "code",
      "source": [
        "type(clean_data)"
      ],
      "metadata": {
        "id": "BM77h6sk5_aB"
      },
      "execution_count": null,
      "outputs": []
    },
    {
      "cell_type": "code",
      "source": [
        "words = data['badwords']"
      ],
      "metadata": {
        "id": "fY4dmspt6xsB"
      },
      "execution_count": null,
      "outputs": []
    },
    {
      "cell_type": "code",
      "source": [
        "results = []\n",
        "msgs = []"
      ],
      "metadata": {
        "id": "LsmZsZ_rCrbe"
      },
      "execution_count": null,
      "outputs": []
    },
    {
      "cell_type": "code",
      "source": [
        "results = []"
      ],
      "metadata": {
        "id": "Di96iaGFCy_1"
      },
      "execution_count": null,
      "outputs": []
    },
    {
      "cell_type": "markdown",
      "source": [
        "## ChatGPT API 사용"
      ],
      "metadata": {
        "id": "IoXV_eT3EQk6"
      }
    },
    {
      "cell_type": "code",
      "source": [
        "for word in words[11:]:\n",
        "  input_msg = f\"비속어 '{word}'를 대체할 간단한 단어를 추천해줘\"\n",
        "  completion = openai.ChatCompletion.create(\n",
        "      model=\"gpt-3.5-turbo\",\n",
        "      messages = [{\"role\":\"user\", \"content\":input_msg}]\n",
        "  )\n",
        "  resp = completion['choices'][0]['message']['content']\n",
        "  results.append(resp)"
      ],
      "metadata": {
        "id": "XoOsmvZ27F1C"
      },
      "execution_count": null,
      "outputs": []
    },
    {
      "cell_type": "code",
      "source": [
        "results"
      ],
      "metadata": {
        "id": "gysWywxRD7xZ"
      },
      "execution_count": null,
      "outputs": []
    },
    {
      "cell_type": "code",
      "source": [
        "PATH = '/content/chat_history.txt'"
      ],
      "metadata": {
        "id": "PFHABLmwAsBB"
      },
      "execution_count": null,
      "outputs": []
    },
    {
      "cell_type": "code",
      "source": [
        "with open(PATH,'w', encoding='utf-8') as f:\n",
        "  data_str = \"\"\n",
        "  for idx in range(len(results)):\n",
        "    data_str += results[idx] + \"@\\n\"\n",
        "    \n",
        "  f.write(data_str)"
      ],
      "metadata": {
        "id": "rK3m6z4u-5ma"
      },
      "execution_count": null,
      "outputs": []
    },
    {
      "cell_type": "code",
      "source": [],
      "metadata": {
        "id": "Bia3nBM4Ivin"
      },
      "execution_count": null,
      "outputs": []
    }
  ]
}